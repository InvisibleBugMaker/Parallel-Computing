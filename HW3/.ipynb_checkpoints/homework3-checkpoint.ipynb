{
 "cells": [
  {
   "cell_type": "code",
   "execution_count": 1,
   "metadata": {
    "deletable": false,
    "editable": false,
    "nbgrader": {
     "cell_type": "code",
     "checksum": "d1cc4d4c7d148aec6497d3b245d6fd7d",
     "grade": false,
     "grade_id": "cell-13a7377ea4df0081",
     "locked": true,
     "schema_version": 3,
     "solution": false,
     "task": false
    }
   },
   "outputs": [],
   "source": [
    "from numpy.testing import assert_, assert_equal, assert_almost_equal, assert_allclose, assert_approx_equal, assert_raises, assert_allclose\n",
    "import numpy as np #import numpy as usual           "
   ]
  },
  {
   "cell_type": "markdown",
   "metadata": {
    "deletable": false,
    "editable": false,
    "nbgrader": {
     "cell_type": "markdown",
     "checksum": "97d82dbe32579aaf0dcdeef7a7492adb",
     "grade": false,
     "grade_id": "cell-9fe22ee93184795b",
     "locked": true,
     "schema_version": 3,
     "solution": false,
     "task": false
    },
    "slideshow": {
     "slide_type": "subslide"
    }
   },
   "source": [
    "##### ME 574 Spring 2021\n",
    "\n",
    "# Homework 3"
   ]
  },
  {
   "cell_type": "markdown",
   "metadata": {
    "deletable": false,
    "editable": false,
    "nbgrader": {
     "cell_type": "markdown",
     "checksum": "0269005d364a4b5c02901b12bb87cf34",
     "grade": false,
     "grade_id": "cell-359c4fd3d7f5fcda",
     "locked": true,
     "schema_version": 3,
     "solution": false,
     "task": false
    }
   },
   "source": [
    "1. Fill in python code to implement the function `run_avg(a, rad)` that computes the running average over `(2*r+1)` consecutive entries from the array `a`."
   ]
  },
  {
   "cell_type": "code",
   "execution_count": 2,
   "metadata": {
    "deletable": false,
    "nbgrader": {
     "cell_type": "code",
     "checksum": "6285bc5c285589b32bd07915164ea8e1",
     "grade": false,
     "grade_id": "cell-468d26390972ded8",
     "locked": false,
     "schema_version": 3,
     "solution": true,
     "task": false
    }
   },
   "outputs": [],
   "source": [
    "def run_avg(a, r):\n",
    "    avg = np.zeros(a.size)\n",
    "    for i in range(a.size):\n",
    "        if i < r:\n",
    "            ary = a[0 : i+r+1]\n",
    "            avg[i] = ary.mean()\n",
    "        elif r <= i <= a.size - r:\n",
    "            ary = a[i-r : i+r+1]\n",
    "            avg[i] = ary.mean()\n",
    "        else:\n",
    "            ary = a[i-r : a.size]\n",
    "            avg[i] = ary.mean()\n",
    "    return avg"
   ]
  },
  {
   "cell_type": "code",
   "execution_count": 3,
   "metadata": {
    "deletable": false,
    "editable": false,
    "nbgrader": {
     "cell_type": "code",
     "checksum": "248960bb43d85d9cbbf59c723a3c34e3",
     "grade": true,
     "grade_id": "cell-d6157644bfa29518",
     "locked": true,
     "points": 2,
     "schema_version": 3,
     "solution": false,
     "task": false
    }
   },
   "outputs": [],
   "source": [
    "len = 6\n",
    "nil_array = np.zeros(len)\n",
    "one_array = np.ones(len)\n",
    "\n",
    "test_data = np.concatenate((nil_array, one_array))\n",
    "desired2 = np.array([0. , 0. , 0. , 0. , 0.2, 0.4, 0.6, 0.8, 1. , 1. , 1. , 1. ])\n",
    "assert_allclose(run_avg(test_data, 2), desired2)\n",
    "desired3 = np.array([0.        , 0.        , 0.        , 0.14285714, 0.28571429,\n",
    "       0.42857143, 0.57142857, 0.71428571, 0.85714286, 1.        ,\n",
    "       1.        , 1.        ])\n",
    "assert_allclose(run_avg(test_data, 3), desired3)"
   ]
  },
  {
   "cell_type": "markdown",
   "metadata": {
    "deletable": false,
    "editable": false,
    "nbgrader": {
     "cell_type": "markdown",
     "checksum": "c5dda9a8484754d4d16a3543034a0a0e",
     "grade": false,
     "grade_id": "cell-9541968bd55db6db",
     "locked": true,
     "schema_version": 3,
     "solution": false,
     "task": false
    }
   },
   "source": [
    "2. Write python code to implement a parallel version `p_run_avg(a,r)`. Use __global memory__ for this version."
   ]
  },
  {
   "cell_type": "code",
   "execution_count": 4,
   "metadata": {
    "deletable": false,
    "nbgrader": {
     "cell_type": "code",
     "checksum": "ec132c6d8f4ba13daa537d4e189cc11a",
     "grade": false,
     "grade_id": "cell-8d46c608e2d3fe6d",
     "locked": false,
     "schema_version": 3,
     "solution": true,
     "task": false
    }
   },
   "outputs": [],
   "source": [
    "from numba import cuda\n",
    "from numba import jit, float32\n",
    "\n",
    "TPB=32\n",
    "@cuda.jit\n",
    "def avg_kernel(d_out, d_a, r):\n",
    "\n",
    "    i = cuda.grid(1)\n",
    "    n = d_a.shape[0]\n",
    "    if i < n:\n",
    "        initial = i - r \n",
    "        end = i + r\n",
    "        if initial <0:\n",
    "            initial = 0\n",
    "        if  end >= n:\n",
    "            end = n-1\n",
    "        j = initial\n",
    "        m = 0\n",
    "        while j < end+1:\n",
    "            m = d_a[j] + m\n",
    "            j = j + 1\n",
    "        d_out[i] = m / (end - initial + 1)\n",
    "\n",
    "\n",
    "def p_run_avg(a, r):\n",
    "    n = a.size\n",
    "    d_a = cuda.to_device(a)\n",
    "    d_out = cuda.device_array(n, dtype = np.float64)\n",
    "    TPBx = 32\n",
    "    gridDim = (n+TPBx-1) // TPBx\n",
    "    blockDim = TPBx\n",
    "    avg_kernel[gridDim, blockDim](d_out, d_a, r)\n",
    "    return d_out"
   ]
  },
  {
   "cell_type": "code",
   "execution_count": 5,
   "metadata": {
    "deletable": false,
    "editable": false,
    "nbgrader": {
     "cell_type": "code",
     "checksum": "234a29728a322087ff1f5df24291e5fd",
     "grade": true,
     "grade_id": "cell-f74ede1b07f3a347",
     "locked": true,
     "points": 4,
     "schema_version": 3,
     "solution": false,
     "task": false
    }
   },
   "outputs": [],
   "source": [
    "TPB = 32\n",
    "N =  1<<6\n",
    "\n",
    "nil_array = np.zeros(N)\n",
    "one_array = np.ones(N)\n",
    "test_data = np.concatenate((nil_array, one_array))\n",
    "\n",
    "assert_allclose(p_run_avg(test_data, 2), run_avg(test_data, 2))\n",
    "assert_allclose(p_run_avg(test_data, 3), run_avg(test_data, 3))"
   ]
  },
  {
   "cell_type": "markdown",
   "metadata": {
    "deletable": false,
    "editable": false,
    "nbgrader": {
     "cell_type": "markdown",
     "checksum": "b261d85957cbdd8f3444f29a90cf4c51",
     "grade": false,
     "grade_id": "cell-9babe60ad4212f9b",
     "locked": true,
     "schema_version": 3,
     "solution": false,
     "task": false
    }
   },
   "source": [
    "3. Write python code to implement a parallel version `s_run_avg(a,r)`. Use a __shared memory array__ for this version."
   ]
  },
  {
   "cell_type": "code",
   "execution_count": 6,
   "metadata": {
    "deletable": false,
    "nbgrader": {
     "cell_type": "code",
     "checksum": "971298d38b445600b68625ceb9edab30",
     "grade": false,
     "grade_id": "cell-ed8aceb7dcc6ef0d",
     "locked": false,
     "schema_version": 3,
     "solution": true,
     "task": false
    }
   },
   "outputs": [],
   "source": [
    "from numba import jit, cuda, float32\n",
    "import numpy as np\n",
    "\n",
    "\n",
    "@cuda.jit\n",
    "def s_avg_kernel(d_out, d_a, r):\n",
    "    N = 256\n",
    "    n = d_a.shape[0]    \n",
    "    i = cuda.grid(1)\n",
    "    shary = cuda.shared.array(N,dtype = np.float32)\n",
    "    tIdx = cuda.threadIdx.x\n",
    "    shIdx = tIdx + r\n",
    "\n",
    "    shary[shIdx] = d_a[i]\n",
    "    if i >= n:\n",
    "        shary[shIdx] = d_a[n-1]\n",
    "    cuda.syncthreads() \n",
    "    if i < n + r:\n",
    "        m = 0\n",
    "        j = r*-1\n",
    "        while j < r+1:\n",
    "            m = shary[shIdx+j] + m\n",
    "            j = j + 1\n",
    "        d_out[i] = m / (2*r+1)\n",
    "            \n",
    "            \n",
    "            \n",
    "def s_run_avg(a, r):\n",
    "\n",
    "    n = a.size\n",
    "    d_a = cuda.to_device(a)\n",
    "    d_out = cuda.device_array(n, dtype = np.float64)\n",
    "    TPBx = 1\n",
    "    gridDim = (n+TPBx-1)//TPBx\n",
    "    blockDim = TPBx\n",
    "    avg_kernel[gridDim, blockDim](d_out, d_a, r)\n",
    "    return d_out"
   ]
  },
  {
   "cell_type": "code",
   "execution_count": 7,
   "metadata": {
    "deletable": false,
    "editable": false,
    "nbgrader": {
     "cell_type": "code",
     "checksum": "f71dc2c9bd0aed8f43032e223ae79e14",
     "grade": true,
     "grade_id": "cell-483fe1a1ffbd16fc",
     "locked": true,
     "points": 5,
     "schema_version": 3,
     "solution": false,
     "task": false
    }
   },
   "outputs": [],
   "source": [
    "TPB = 32\n",
    "N =  1<<6\n",
    "\n",
    "nil_array = np.zeros(N)\n",
    "one_array = np.ones(N)\n",
    "test_data = np.concatenate((nil_array, one_array))\n",
    "\n",
    "assert_allclose(s_run_avg(test_data, 2), run_avg(test_data, 2))\n",
    "assert_allclose(s_run_avg(test_data, 3), run_avg(test_data, 3))"
   ]
  },
  {
   "cell_type": "markdown",
   "metadata": {
    "deletable": false,
    "editable": false,
    "nbgrader": {
     "cell_type": "markdown",
     "checksum": "44080f7de743c9190efbd9e83a7dbcb9",
     "grade": false,
     "grade_id": "cell-70e8fdec1780e472",
     "locked": true,
     "schema_version": 3,
     "solution": false,
     "task": false
    }
   },
   "source": [
    "The remaining problems focus on Laplace's equation, $\\nabla^2 u = 0$, which arises frequently is studies of steady-state diffusion (including diffusion of heat as a system evolves toward a sgteady-state temperature distrbution).\n",
    "\n",
    "In 1D Cartesian coordinates, Laplace's equation simplifies to $\\frac{d^2 u}{dx^2} = 0$. A common approach to computing  approximate solutions involves discretizing the domain to a grid of $N+1$ regularly spaced points $x_i = i x + x_o$ and applying a central difference approximation for the derivative to obtain $x_{i-1} -2 x_i + x_{i+1} = 0, i \\in [1, \\ldots, N]$.\n",
    "\n",
    "There are 2 distinct ways to proceed toward a solution from this underlying difference equation: treat the collection of $N-1$ equations together as a big linear algebra problem to be solved for the vector of steady-state values on the collection of grid points or use the difference equation as the basis for an iteration scheme to update values at individual grid points. In this problem, we pursue the latter approach and construct an iteration scheme (known as __Jacobi iteration__) as follows:\n",
    "\n",
    "- Solve the difference equation for $x_i = \\frac{1}{2} (x_{i-1} + x_{i+1})$\n",
    "- Include a superscript to designate the iteration number and update the value of $x_i$ based on the values at the neighboring grid points from the previous iteration: $x_i^{k+1} = \\frac{1}{2} (x_{i-1}^k + x_{i+1}^k)$.\n",
    "- From an initial guess of the solution, update the value at each point (i.e. replace the value with the average of the values at the neighboring grid points) and repeat until the values no longer change significantly during an update step.\n",
    "\n",
    " \n",
    "4. Use the `@cuda.reduce` decorator to write a function `norm_diff(u,v)` that measures the difference between arrays. It will be used to test if the \"solution\" changes significantly during an update step. Your implementation of `normdiff(u,v)` should implement the $L^1$-norm: $|u-v|_1 = \\sum{| u_i - v_i |}$."
   ]
  },
  {
   "cell_type": "code",
   "execution_count": 8,
   "metadata": {
    "deletable": false,
    "nbgrader": {
     "cell_type": "code",
     "checksum": "24c1347294965f776ae76b3bffcc4fa4",
     "grade": false,
     "grade_id": "cell-27f8ee77eb5d4545",
     "locked": false,
     "schema_version": 3,
     "solution": true,
     "task": false
    }
   },
   "outputs": [],
   "source": [
    "@cuda.reduce\n",
    "def sum_abs(a,b):\n",
    "    return abs(a)+abs(b)\n",
    "\n",
    "\n",
    "@cuda.jit\n",
    "def norm_kernal(dw,du,dv):\n",
    "    i = cuda.grid(1)\n",
    "    n = du.shape [0]\n",
    "    if i >= n:\n",
    "        return\n",
    "    dw[i] = abs(du[i]-dv[i])\n",
    "\n",
    "    \n",
    "def norm_diff(u,v):\n",
    "    TPB = 32\n",
    "    n = u.shape[0]\n",
    "    du = cuda.to_device(u)\n",
    "    dv = cuda.to_device(v)\n",
    "    dw = cuda.device_array(n, dtype = np.float32)\n",
    "    gridDim = int( np.ceil (n/TPB))\n",
    "    blockDim = TPB\n",
    "    norm_kernel[gridDim ,blockDim ](dw , du , dv)\n",
    "    value = sum_abs(dw)\n",
    "    return value"
   ]
  },
  {
   "cell_type": "code",
   "execution_count": 9,
   "metadata": {
    "deletable": false,
    "editable": false,
    "nbgrader": {
     "cell_type": "code",
     "checksum": "3096b9e5897ceb715bc4392c6b4ac1e9",
     "grade": true,
     "grade_id": "cell-e173ce3bd4123a7f",
     "locked": true,
     "points": 4,
     "schema_version": 3,
     "solution": false,
     "task": false
    }
   },
   "outputs": [],
   "source": [
    "N = 100\n",
    "v = np.ones(N)\n",
    "assert_(sum_abs(v) == np.abs(v).sum())\n",
    "v = np.array([(-1)**i*(i+1) for i in range(100)])\n",
    "assert_(sum_abs(v) == np.abs(v).sum())"
   ]
  },
  {
   "cell_type": "markdown",
   "metadata": {
    "deletable": false,
    "editable": false,
    "nbgrader": {
     "cell_type": "markdown",
     "checksum": "8171ee1974ddf37078cd3e22a039c5fb",
     "grade": false,
     "grade_id": "cell-3299468f0293dcf0",
     "locked": true,
     "schema_version": 3,
     "solution": false,
     "task": false
    }
   },
   "source": [
    "Below is code for a serial implementation of the function `jacobi_update(u)` that returns $u^{k+1}$ given $u^k$. \n",
    "This implementation creates a copy of the input array, writes the updated values into the copy, and returns the updated version of the copy."
   ]
  },
  {
   "cell_type": "code",
   "execution_count": 10,
   "metadata": {
    "deletable": false,
    "nbgrader": {
     "cell_type": "code",
     "checksum": "45979bbaaa789a17aa0d605c8889a0a0",
     "grade": false,
     "grade_id": "cell-3032c0420fd53399",
     "locked": false,
     "schema_version": 3,
     "solution": true,
     "task": false
    }
   },
   "outputs": [],
   "source": [
    "\n",
    "def jacobi_update(u):\n",
    "    initial = u[0]\n",
    "    end = u[-1]\n",
    "    n = u.size\n",
    "    u_new = np.zeros(n)\n",
    "    for i in range(1,n-1):\n",
    "        u_new[i] = (u[i-1]+u[i+1])/2\n",
    "    u_new[-1] = end\n",
    "    u_new[0] = initial\n",
    "    return u_new"
   ]
  },
  {
   "cell_type": "code",
   "execution_count": 11,
   "metadata": {
    "deletable": false,
    "editable": false,
    "nbgrader": {
     "cell_type": "code",
     "checksum": "bb8cc9d413e1b823c7c808029b6c2695",
     "grade": true,
     "grade_id": "cell-4cf886ca969b13b4",
     "locked": true,
     "points": 3,
     "schema_version": 3,
     "solution": false,
     "task": false
    }
   },
   "outputs": [],
   "source": [
    "# test to check that jacobi-update works as expected\n",
    "N = 8\n",
    "u = np.zeros(N)\n",
    "u[-1] = 1.\n",
    "assert_allclose(jacobi_update(u), np.array([0. , 0., 0. , 0. , 0. , 0. , 0.5, 1. ]))"
   ]
  },
  {
   "cell_type": "markdown",
   "metadata": {
    "deletable": false,
    "editable": false,
    "nbgrader": {
     "cell_type": "markdown",
     "checksum": "70967782197fabbaf0526b89da74a6a9",
     "grade": false,
     "grade_id": "cell-a891a22d3b41efc7",
     "locked": true,
     "schema_version": 3,
     "solution": false,
     "task": false
    }
   },
   "source": [
    "The cell below shows a serial implementation of the function `jacobi_solve(u, tol, max_iters)` that computes an approximate solution of the 1D Laplace equation by performing repeated Jacobi updates until reaching one of the following termination criteria:\n",
    "\n",
    "- The number of updates reaches a specified maximum value, `max_iters`. (In this case, it prints a messaage warning of failed convergence.)\n",
    "- The norm of the change in the array caused by an update is less than a specified value, `tol`."
   ]
  },
  {
   "cell_type": "code",
   "execution_count": 12,
   "metadata": {},
   "outputs": [],
   "source": [
    "def norm_diff(u_new, u_old):\n",
    "    n = u_new.shape[0]\n",
    "    m = 0\n",
    "    for i in range(n):\n",
    "        tmp = abs(u_new[i]-u_old[i])\n",
    "        m +=tmp\n",
    "    # print(m)\n",
    "    return m"
   ]
  },
  {
   "cell_type": "code",
   "execution_count": 13,
   "metadata": {
    "deletable": false,
    "editable": false,
    "nbgrader": {
     "cell_type": "code",
     "checksum": "9501587967bb0c48ad6bed5b26c8bb47",
     "grade": false,
     "grade_id": "cell-da7a1fbb63cb4cc5",
     "locked": true,
     "schema_version": 3,
     "solution": false,
     "task": false
    }
   },
   "outputs": [],
   "source": [
    "def jacobi_solve(u, tol, max_iters):\n",
    "    \"\"\"\n",
    "    Compute an approximate solution of 1D Laplace equation by repeated Jacobi updates.\n",
    "    \n",
    "    Arguments:\n",
    "        u: numpy array of initial guess of solution values\n",
    "        tol: float L1 norm of change in u at which to stop iterating\n",
    "        max_iters: maximum number of updates to compute\n",
    "        \n",
    "    Returns:\n",
    "        count: int number of iterations\n",
    "        sol: numpy float array of approximate solution values\n",
    "    \"\"\"\n",
    "    u_old =  np.copy(u)\n",
    "    for count in range(1, max_iters+1):\n",
    "        u_new = jacobi_update(u_old)\n",
    "        if norm_diff(u_new, u_old)<tol:\n",
    "            sol = u_new\n",
    "            return count, sol\n",
    "        u_old = np.copy(u_new)\n",
    "        sol = u_new\n",
    "    return count, sol"
   ]
  },
  {
   "cell_type": "code",
   "execution_count": 14,
   "metadata": {
    "deletable": false,
    "editable": false,
    "nbgrader": {
     "cell_type": "code",
     "checksum": "0750dd8417a51f46aeae11d277850dff",
     "grade": false,
     "grade_id": "cell-f07360f2b876630d",
     "locked": true,
     "schema_version": 3,
     "solution": false,
     "task": false
    }
   },
   "outputs": [],
   "source": [
    "# test jacobi_solve to see if it works as expected\n",
    "N = 11\n",
    "u = np.zeros(N)\n",
    "u[-1] = 1.\n",
    "tol = 0.00005\n",
    "assert_allclose(jacobi_solve(u, tol, 1)[1], np.array([0.  , 0.  , 0.  , 0.  , 0.  , 0.  , 0.  , 0.  , 0., 0.5 , 1.  ]))\n",
    "assert_allclose(jacobi_solve(u, tol, 200)[1], 0.1 * np.arange(11), rtol = 0, atol=1e-3)"
   ]
  },
  {
   "cell_type": "code",
   "execution_count": 15,
   "metadata": {
    "deletable": false,
    "editable": false,
    "nbgrader": {
     "cell_type": "code",
     "checksum": "d4f49f60554090d37252706286cc735f",
     "grade": false,
     "grade_id": "cell-8fa73bde0e1f53e0",
     "locked": true,
     "schema_version": 3,
     "solution": false,
     "task": false
    }
   },
   "outputs": [],
   "source": [
    "# test jacobi_solve to see if it works as expected\n",
    "N = 11\n",
    "u = np.zeros(N)\n",
    "u[-1] = 1.\n",
    "tol = 0.00005\n",
    "assert_allclose(jacobi_solve(u, tol, 1)[1], np.array([0.  , 0.  , 0.  , 0.  , 0.  , 0.  , 0.  , 0.  , 0., 0.5 , 1.  ]))\n",
    "assert_allclose(jacobi_solve(u, tol, 200)[1], 0.1 * np.arange(11), rtol = 0, atol=1e-3)"
   ]
  },
  {
   "cell_type": "markdown",
   "metadata": {
    "deletable": false,
    "editable": false,
    "nbgrader": {
     "cell_type": "markdown",
     "checksum": "a507561de0301defd30c26a212a5913a",
     "grade": false,
     "grade_id": "cell-c9d423d5c3a23ff7",
     "locked": true,
     "schema_version": 3,
     "solution": false,
     "task": false
    }
   },
   "source": [
    "5. Code up a parallel implementation of `jacobi_solve()` using __global memory__. To retain the current values (for both later reads and comparison to updated values), use separate arrays for input data and output data. \n",
    "\n",
    "Recall that these will need to be device arrays, and there are limits to the memory available on the device. The recommended strategy is to create 2 arrays of the necessary size in global memory and, on subsequent update steps, alternate which array is used for input/output.\n",
    "\n",
    "Also, remember that copying data back and forth between the host and device would incur a performance penalty, so keep the data on the device side, and only copy the array of final values back to the host side for inspection."
   ]
  },
  {
   "cell_type": "code",
   "execution_count": 22,
   "metadata": {
    "deletable": false,
    "nbgrader": {
     "cell_type": "code",
     "checksum": "ccaf1bec95b3bf186413e5912c56f4b2",
     "grade": false,
     "grade_id": "cell-041fe0f711c7d3ab",
     "locked": false,
     "schema_version": 3,
     "solution": true,
     "task": false
    }
   },
   "outputs": [],
   "source": [
    "\n",
    "TPB = 32\n",
    "def norm_diff(u, v):\n",
    "    n = u.shape[0]\n",
    "    m = 0\n",
    "    for i in range(n):\n",
    "        tmp = abs(u[i]-v[i])\n",
    "        m = tmp + m\n",
    "    return m\n",
    "\n",
    "@cuda.jit\n",
    "def update_kernel(dv, du):\n",
    "\n",
    "    i = cuda.grid(1)\n",
    "    n = du.shape[0]\n",
    "    initial = du[0]\n",
    "    end = du[n-1]\n",
    "    if i >= n:\n",
    "        dv[n-1] = du[n-1]\n",
    "        return\n",
    "    if 1 <= i <= n-1:\n",
    "        dv[i] = (du[i-1]+du[i+1])/2\n",
    "    \n",
    "   \n",
    "def p_jacobi_update(u_new,u_old):\n",
    "\n",
    "    n = u_old.shape[0]\n",
    "    du = cuda.to_device(u_old)\n",
    "    dv = cuda.device_array(n, dtype = np.float32)\n",
    "\n",
    "    TPBx = 512\n",
    "    gridDim = (n+TPBx-1)//TPBx\n",
    "    blockDim = TPBx\n",
    "    update_kernel[gridDim ,blockDim ](dv, du)\n",
    "    return dv\n",
    "\n",
    "\n",
    "def jacobi_solve(u, tol, max_iters):\n",
    "    u_old =  np.copy(u)\n",
    "    u_new =  np.zeros(u_old.shape[0])\n",
    "    for count in range(1, max_iters+1):\n",
    "        u_new = p_jacobi_update(u_new,u_old)\n",
    "        if norm_diff(u_new, u_old)<tol:\n",
    "            sol = u_new\n",
    "            return count, sol\n",
    "        u_old = np.copy(u_new)\n",
    "        sol = u_new\n",
    "    return count, sol"
   ]
  },
  {
   "cell_type": "code",
   "execution_count": 23,
   "metadata": {
    "deletable": false,
    "editable": false,
    "nbgrader": {
     "cell_type": "code",
     "checksum": "f9fb40add29cb260408b3f951d2511c8",
     "grade": true,
     "grade_id": "cell-324ce8a7d8764ca7",
     "locked": true,
     "points": 5,
     "schema_version": 3,
     "solution": false,
     "task": false
    }
   },
   "outputs": [],
   "source": [
    "N = 11\n",
    "u = np.zeros(N)\n",
    "u[-1] = 1.\n",
    "tol = 0.00005\n",
    "count, sol = jacobi_solve(u, tol, 2)\n",
    "assert_(count==2)\n",
    "assert_allclose(sol, np.array([0.  , 0.  , 0.  , 0.  , 0.  , 0.  , 0.  , 0.  , 0.25, 0.5 , 1.  ]))\n",
    "count, sol = jacobi_solve(u, tol, 200)\n",
    "assert_(count == 166)\n",
    "assert_allclose(sol, 0.1 * np.arange(11), rtol = 0, atol=1e-3)"
   ]
  },
  {
   "cell_type": "markdown",
   "metadata": {
    "deletable": false,
    "editable": false,
    "nbgrader": {
     "cell_type": "markdown",
     "checksum": "b0f5dd61fdbe781a87026c38e3838be7",
     "grade": false,
     "grade_id": "cell-d2a97136f1a0be02",
     "locked": true,
     "schema_version": 3,
     "solution": false,
     "task": false
    }
   },
   "source": [
    "6. Write code to implement a parallel implementation of `jacobi_solve()` using __shared memory__."
   ]
  },
  {
   "cell_type": "code",
   "execution_count": 20,
   "metadata": {
    "deletable": false,
    "nbgrader": {
     "cell_type": "code",
     "checksum": "873404091a3079bdedef2e7302042c7e",
     "grade": false,
     "grade_id": "cell-e67502285df2d4b4",
     "locked": false,
     "schema_version": 3,
     "solution": true,
     "task": false
    }
   },
   "outputs": [],
   "source": [
    "\n",
    "@cuda.jit\n",
    "def update_kernel(dv, du):\n",
    "    n = du.shape[0]\n",
    "    i = cuda.grid(1)\n",
    "\n",
    "    sh_f = cuda.shared.array(512,dtype = np.float32)\n",
    "    tIdx = cuda.threadIdx.x\n",
    "    shIdx = tIdx\n",
    "    sh_f[shIdx] = du[i]\n",
    "    cuda.syncthreads() \n",
    "    \n",
    "    if  i<n-1:\n",
    "        dv[i]=(sh_f[i-1]+sh_f[i+1])/2\n",
    "        dv[n-1] = sh_f[n-1]\n",
    "        dv[0] = sh_f[0]\n",
    "\n",
    "\n",
    "    \n",
    "def s_jacobi_update(u_new, u_old):\n",
    "    n = u_old.shape[0]\n",
    "    du = cuda.to_device(u_old)\n",
    "    dv = cuda.device_array(n, dtype = np.float32)\n",
    "    TPBx = 512\n",
    "    gridDim = (n+TPBx-1)//TPBx\n",
    "    blockDim = TPBx\n",
    "    update_kernel[gridDim ,blockDim ](dv, du)\n",
    "    return  dv.copy_to_host()\n",
    "\n",
    "\n",
    "def jacobi_solve(u, tol, max_iters):\n",
    "    u_old =  np.copy(u)\n",
    "    u_new =  np.zeros(u_old.shape[0])\n",
    "    for count in range(1, max_iters+1):\n",
    "        u_new = s_jacobi_update(u_new,u_old)\n",
    "        if norm_diff(u_new, u_old) < tol:\n",
    "            sol = u_new\n",
    "            return count, sol\n",
    "        u_old = np.copy(u_new)\n",
    "        sol = u_new\n",
    "    return count, sol"
   ]
  },
  {
   "cell_type": "code",
   "execution_count": 21,
   "metadata": {
    "deletable": false,
    "editable": false,
    "nbgrader": {
     "cell_type": "code",
     "checksum": "16ba25284f6e6dcac1666eb1ff271fcb",
     "grade": true,
     "grade_id": "cell-8517ee35d6d0a5e1",
     "locked": true,
     "points": 7,
     "schema_version": 3,
     "solution": false,
     "task": false
    }
   },
   "outputs": [],
   "source": [
    "N = 11\n",
    "u = np.zeros(N)\n",
    "u[-1] = 1.\n",
    "tol = 0.00005\n",
    "count, sol = jacobi_solve(u, tol, 2)\n",
    "assert_(count == 2)\n",
    "assert_allclose(sol, np.array([0.  , 0.  , 0.  , 0.  , 0.  , 0.  , 0.  , 0.  , 0.25, 0.5 , 1.  ]))\n",
    "count, sol = jacobi_solve(u, tol, 200)\n",
    "assert_(count == 166)\n",
    "assert_allclose(sol, np.linspace(0., 1., 11), rtol = 0, atol=1e-3)"
   ]
  },
  {
   "cell_type": "code",
   "execution_count": null,
   "metadata": {},
   "outputs": [],
   "source": []
  }
 ],
 "metadata": {
  "kernelspec": {
   "display_name": "Python 3",
   "language": "python",
   "name": "python3"
  },
  "language_info": {
   "codemirror_mode": {
    "name": "ipython",
    "version": 3
   },
   "file_extension": ".py",
   "mimetype": "text/x-python",
   "name": "python",
   "nbconvert_exporter": "python",
   "pygments_lexer": "ipython3",
   "version": "3.8.5"
  }
 },
 "nbformat": 4,
 "nbformat_minor": 5
}
