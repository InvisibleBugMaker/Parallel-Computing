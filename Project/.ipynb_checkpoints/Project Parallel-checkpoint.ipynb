{
 "cells": [
  {
   "cell_type": "code",
   "execution_count": 1,
   "metadata": {},
   "outputs": [],
   "source": [
    "import numpy as np\n",
    "import time\n",
    "\n",
    "b = 60\n",
    "h = 30\n",
    "n_b = 50\n",
    "n_h = 50\n",
    "G = 200\n",
    "theta = 10\n",
    "\n",
    "x_coord = np.transpose(np.kron(np.ones((1,n_h+1)), np.linspace(0,b,n_b+1)))\n",
    "y_coord = np.transpose(np.asmatrix(np.repeat(np.linspace(0,h,n_h+1), n_b+1)))\n",
    "n_info = np.hstack((x_coord, y_coord))\n",
    "\n",
    "# print('n_info')\n",
    "# print(n_info)"
   ]
  },
  {
   "cell_type": "code",
   "execution_count": 2,
   "metadata": {},
   "outputs": [],
   "source": [
    "e_matrix = np.zeros((1,4))\n",
    "for i in range(n_h):\n",
    "    for j in range (n_b):\n",
    "        top_lef = (i+1-1)*(n_b+1)+j+1\n",
    "        top_rig = top_lef+1\n",
    "        bot_lef = top_lef+(n_b+1)\n",
    "        bot_rig = top_rig+(n_b+1)\n",
    "        add = np.asmatrix(np.hstack((bot_lef, bot_rig, top_rig, top_lef)))\n",
    "        e_matrix = np.vstack((e_matrix, add))\n",
    "e_matrix = np.delete(e_matrix, 0, 0)\n",
    "e_info = np.fliplr(e_matrix)\n",
    "\n",
    "# print('e_info')\n",
    "# print(e_info)"
   ]
  },
  {
   "cell_type": "code",
   "execution_count": 3,
   "metadata": {},
   "outputs": [],
   "source": [
    "all_node = np.linspace(1, (n_b+1)*(n_h+1),(n_b+1)*(n_h+1))\n",
    "all_node_op = np.transpose(np.asmatrix(np.linspace(1, (n_b+1)*(n_h+1),(n_b+1)*(n_h+1))))\n",
    "all_matrix = np.flipud(np.reshape(all_node_op, (n_h+1, n_b+1)))\n",
    "all_matrix[0,] = 0\n",
    "all_matrix[-1,] = 0\n",
    "all_matrix[:,0] = 0\n",
    "all_matrix[:,-1] = 0\n",
    "id_f = np.transpose(np.sort(all_matrix[all_matrix != 0], axis=None))\n",
    "id_s = np.transpose(np.asmatrix(np.setdiff1d(all_node, id_f)))\n",
    "\n",
    "# print('all_node')\n",
    "# print(all_node)\n",
    "# print('all_matrix')\n",
    "# print(all_matrix)\n",
    "# print()\n",
    "# print('id_f')\n",
    "# print(id_f)\n",
    "# print()\n",
    "# print('id_s')\n",
    "# print(id_s)"
   ]
  },
  {
   "cell_type": "code",
   "execution_count": 4,
   "metadata": {},
   "outputs": [],
   "source": [
    "num_node = (n_b+1)*(n_h+1)\n",
    "K = np.zeros((num_node, num_node))\n",
    "num_e = np.size(e_info, axis=0)\n",
    "start = time.time()\n",
    "for e in range(num_e):\n",
    "    i = int(e_info[e,0])\n",
    "    j = int(e_info[e,1])\n",
    "    k = int(e_info[e,2])\n",
    "    l = int(e_info[e,3])\n",
    "    Lx = n_info[j-1,0]-n_info[i-1,0]\n",
    "    Ly = n_info[k-1,1]-n_info[j-1,1]\n",
    "    r = Ly/Lx\n",
    "    k11 = (1+r**2)/(3*r)\n",
    "    k12 = 1/(6*r)-r/3\n",
    "    k13 = -(1+r**2)/(6*r)\n",
    "    k14 = (-2+r**2)/(6*r)\n",
    "    ke = (1/G)*np.asmatrix([[k11,k12,k13,k14],\n",
    "          [k12,k11,k14,k13],\n",
    "          [k13,k14,k11,k12],\n",
    "          [k14,k13,k12,k11]])\n",
    "    # print(ke.type)\n",
    "    K[i-1,i-1] = K[i-1,i-1]+ke[0,0]\n",
    "    K[i-1,j-1] = K[i-1,j-1]+ke[0,1]\n",
    "    K[i-1,k-1] = K[i-1,k-1]+ke[0,2]\n",
    "    K[i-1,l-1] = K[i-1,l-1]+ke[0,3]\n",
    "    \n",
    "    K[j-1,i-1] = K[j-1,i-1]+ke[1,0]\n",
    "    K[j-1,j-1] = K[j-1,j-1]+ke[1,1]\n",
    "    K[j-1,k-1] = K[j-1,k-1]+ke[1,2]\n",
    "    K[j-1,l-1] = K[j-1,l-1]+ke[1,3]\n",
    "    \n",
    "    K[k-1,i-1] = K[k-1,i-1]+ke[2,0]\n",
    "    K[k-1,j-1] = K[k-1,j-1]+ke[2,1]\n",
    "    K[k-1,k-1] = K[k-1,k-1]+ke[2,2]\n",
    "    K[k-1,l-1] = K[k-1,l-1]+ke[2,3]\n",
    "    \n",
    "    K[l-1,i-1] = K[l-1,i-1]+ke[3,0]\n",
    "    K[l-1,j-1] = K[l-1,j-1]+ke[3,1]\n",
    "    K[l-1,k-1] = K[l-1,k-1]+ke[3,2]\n",
    "    K[l-1,l-1] = K[l-1,l-1]+ke[3,3]\n",
    "# print('K')\n",
    "# print(K)"
   ]
  },
  {
   "cell_type": "code",
   "execution_count": 5,
   "metadata": {},
   "outputs": [
    {
     "name": "stdout",
     "output_type": "stream",
     "text": [
      "0.14229083061218262\n"
     ]
    }
   ],
   "source": [
    "Pfef = np.zeros((num_node, 1))\n",
    "num_e = np.size(e_info, axis=0)\n",
    "start = time.time()\n",
    "\n",
    "for e in range(num_e):\n",
    "    i_node = int(e_info[e,0])\n",
    "    j_node = int(e_info[e,1])\n",
    "    k_node = int(e_info[e,2])\n",
    "    l_node = int(e_info[e,3])\n",
    "    Lx = n_info[j_node-1,0]-n_info[i_node-1,0]\n",
    "    Ly = n_info[k_node-1,1]-n_info[j_node-1,1]\n",
    "    Pfefe = Lx*Ly*2*theta*np.asmatrix([[1/4],[1/4],[1/4],[1/4]])\n",
    "    \n",
    "    Pfef[i_node-1] = Pfef[i_node-1]+Pfefe[0]\n",
    "    Pfef[j_node-1] = Pfef[j_node-1]+Pfefe[1]\n",
    "    Pfef[k_node-1] = Pfef[k_node-1]+Pfefe[2]\n",
    "    Pfef[l_node-1] = Pfef[l_node-1]+Pfefe[3]\n",
    "\n",
    "print(time.time()-start)\n",
    "\n",
    "# print('Pfef')\n",
    "# print(Pfef)"
   ]
  },
  {
   "cell_type": "code",
   "execution_count": 6,
   "metadata": {},
   "outputs": [],
   "source": [
    "Pfef_list = np.asarray(Pfef).reshape(-1).tolist()\n",
    "id_f_index = np.asarray(id_f).reshape(-1).tolist()\n",
    "id_f_index[:] = [id_f_index - 1 for id_f_index in id_f_index]\n",
    "Pfeff = np.asmatrix(np.take(Pfef_list, id_f_index)).transpose()\n",
    "\n",
    "# print('Pfeff')\n",
    "# print(Pfeff)"
   ]
  },
  {
   "cell_type": "code",
   "execution_count": null,
   "metadata": {},
   "outputs": [],
   "source": []
  },
  {
   "cell_type": "code",
   "execution_count": 7,
   "metadata": {},
   "outputs": [],
   "source": [
    "from numba import cuda\n",
    "\n",
    "# @cuda.jit(device=True)\n",
    "# def arrsub(ele):\n",
    "#     return ele-1\n",
    "    \n",
    "@cuda.jit()\n",
    "def update_kernel(d_out,d_id_f,d_k):\n",
    "    nx,ny = d_id_f.shape[0], d_id_f.shape[0]\n",
    "    i,j = cuda.grid(2)\n",
    "    if i < nx:\n",
    "         if j < ny:\n",
    "            # cx = arrsub(id_f[i])\n",
    "            # cy = arrsub(id_f[j])\n",
    "            d_out[i,j] = d_k[d_id_f[i]-1,d_id_f[j]-1]\n",
    "\n",
    "# for i in range(len(id_f)):\n",
    "#     tmp = np.asscalar(id_f.A[i])\n",
    "#     # print(id_f.astype(int).reshape(-1,1).A[i])\n",
    "#     b.append(tmp)\n",
    "\n",
    "def caller(id_f,K):\n",
    "    tmp =[]\n",
    "    for i in range(len(id_f)):\n",
    "        tmp.append(id_f.A[i].item())\n",
    "    tmp = np.array(tmp).astype(int)\n",
    "    d_k = cuda.to_device(K)\n",
    "    nx,ny = np.size(id_f),np.size(id_f)\n",
    "    # print(tmp)\n",
    "    d_id_f = cuda.to_device(tmp)\n",
    "    d_out = cuda.device_array([nx,ny])\n",
    "\n",
    "    # Kff = np.zeros((np.size(id_f), np.size(id_f)))\n",
    "    TPB = 16\n",
    "    threads = TPB, TPB\n",
    "    blocks = (nx+TPB-1)//TPB, (ny+TPB-1)//TPB\n",
    "    e_start = cuda.event()\n",
    "    e_end = cuda.event()\n",
    "    \n",
    "    e_start.record()\n",
    "    update_kernel[blocks, threads](d_out,d_id_f, d_k)\n",
    "    e_end.record()\n",
    "    e_end.synchronize()\n",
    "    kernel_duration = cuda.event_elapsed_time(e_start, e_end)\n",
    "    print(kernel_duration)\n",
    "    return d_out.copy_to_host()\n",
    "\n"
   ]
  },
  {
   "cell_type": "code",
   "execution_count": 8,
   "metadata": {},
   "outputs": [
    {
     "name": "stdout",
     "output_type": "stream",
     "text": [
      "1.7448960542678833\n"
     ]
    }
   ],
   "source": [
    "# start = time.time()\n",
    "p_Kff=caller(id_f,K)\n",
    "# print(start - time.time())"
   ]
  },
  {
   "cell_type": "code",
   "execution_count": null,
   "metadata": {},
   "outputs": [],
   "source": []
  },
  {
   "cell_type": "code",
   "execution_count": 9,
   "metadata": {},
   "outputs": [
    {
     "name": "stdout",
     "output_type": "stream",
     "text": [
      "[[370216.00827079]]\n"
     ]
    }
   ],
   "source": [
    "df = np.dot(np.linalg.inv(p_Kff), Pfeff)\n",
    "area_elm = (b/n_b)*(h/n_h)\n",
    "vol = sum(df*area_elm)\n",
    "J = 2 * vol/(G*theta)\n",
    "print(J)"
   ]
  },
  {
   "cell_type": "code",
   "execution_count": null,
   "metadata": {},
   "outputs": [],
   "source": []
  }
 ],
 "metadata": {
  "kernelspec": {
   "display_name": "Python 3",
   "language": "python",
   "name": "python3"
  },
  "language_info": {
   "codemirror_mode": {
    "name": "ipython",
    "version": 3
   },
   "file_extension": ".py",
   "mimetype": "text/x-python",
   "name": "python",
   "nbconvert_exporter": "python",
   "pygments_lexer": "ipython3",
   "version": "3.8.5"
  }
 },
 "nbformat": 4,
 "nbformat_minor": 4
}
