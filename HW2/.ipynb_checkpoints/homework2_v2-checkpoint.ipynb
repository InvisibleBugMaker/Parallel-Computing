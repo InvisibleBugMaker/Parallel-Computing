{
 "cells": [
  {
   "cell_type": "code",
   "execution_count": 59,
   "metadata": {
    "deletable": false,
    "editable": false,
    "nbgrader": {
     "cell_type": "code",
     "checksum": "7fa3947074677d45b51ffb79ae4115a6",
     "grade": false,
     "grade_id": "cell-13a7377ea4df0081",
     "locked": true,
     "schema_version": 3,
     "solution": false,
     "task": false
    }
   },
   "outputs": [],
   "source": [
    "from numpy.testing import assert_, assert_equal, assert_almost_equal, assert_allclose, assert_approx_equal, assert_raises, assert_allclose\n",
    "import numpy as np #import numpy as usual\n",
    "# from numpy import linalg as LA #import linear algebra package for norms, etc.\n",
    "import matplotlib.pyplot as plt #import plotting package"
   ]
  },
  {
   "cell_type": "markdown",
   "metadata": {
    "deletable": false,
    "editable": false,
    "nbgrader": {
     "cell_type": "markdown",
     "checksum": "e62715428d0c60c213e28fbc78300d38",
     "grade": false,
     "grade_id": "cell-9fe22ee93184795b",
     "locked": true,
     "schema_version": 3,
     "solution": false,
     "task": false
    },
    "slideshow": {
     "slide_type": "subslide"
    }
   },
   "source": [
    "##### ME 574 Spring 2021\n",
    "\n",
    "# Homework 2\n",
    "\n",
    "1. the goal of this problem is to implement a Newton's method root solver and explore how the results depend on the choice of initial estimate of the root location.\n",
    "\n",
    "a) Start by defining python functions `f` and `df` corresponding to $f(x) = -0.2 x + tan(x)$ and its derivative."
   ]
  },
  {
   "cell_type": "code",
   "execution_count": 60,
   "metadata": {
    "deletable": false,
    "nbgrader": {
     "cell_type": "code",
     "checksum": "f649d88b5ca29d3f158b4e6ec806db30",
     "grade": false,
     "grade_id": "cell-ae522fabd2e04292",
     "locked": false,
     "schema_version": 3,
     "solution": true,
     "task": false
    }
   },
   "outputs": [],
   "source": [
    "# Write python definitions for `f` and `df`\n",
    "def f(x0):\n",
    "    return -0.2*x0+np.tan(x0)\n",
    "\n",
    "def df(x0):\n",
    "    return -0.2+1/(np.cos(x0))**2"
   ]
  },
  {
   "cell_type": "code",
   "execution_count": 61,
   "metadata": {
    "deletable": false,
    "editable": false,
    "nbgrader": {
     "cell_type": "code",
     "checksum": "8df3a6b35fc2bd3c46a844ff95c0dce0",
     "grade": true,
     "grade_id": "cell-46f0bb02fec5241d",
     "locked": true,
     "points": 2,
     "schema_version": 3,
     "solution": false,
     "task": false
    }
   },
   "outputs": [],
   "source": [
    "assert_approx_equal(f(np.pi), -0.6283, significant=3)\n",
    "assert_approx_equal(df(np.pi), 0.8, significant=3)"
   ]
  },
  {
   "cell_type": "markdown",
   "metadata": {
    "deletable": false,
    "editable": false,
    "nbgrader": {
     "cell_type": "markdown",
     "checksum": "1347e01af040f2279102a74f6fce028a",
     "grade": false,
     "grade_id": "cell-142e68f1331bc4d8",
     "locked": true,
     "schema_version": 3,
     "solution": false,
     "task": false
    }
   },
   "source": [
    "b) Implement the function `newton_step` that computes the next iteration in Newton's method for root-finding."
   ]
  },
  {
   "cell_type": "code",
   "execution_count": 62,
   "metadata": {
    "deletable": false,
    "nbgrader": {
     "cell_type": "code",
     "checksum": "705e86d81b9f35014d7cd6a58c9cca0f",
     "grade": false,
     "grade_id": "cell-3bea37ed3d9d0e26",
     "locked": false,
     "schema_version": 3,
     "solution": true,
     "task": false
    }
   },
   "outputs": [],
   "source": [
    "# insert your python implementation based on the docstring below\n",
    "def newton_step(x):\n",
    "\n",
    "    x_new = x -(f(x)/df(x))\n",
    "    return x_new"
   ]
  },
  {
   "cell_type": "code",
   "execution_count": 63,
   "metadata": {
    "deletable": false,
    "editable": false,
    "nbgrader": {
     "cell_type": "code",
     "checksum": "a223b04d2c6eb5433c7785eb64b9dc25",
     "grade": true,
     "grade_id": "cell-8f7bbe2b54d5ea66",
     "locked": true,
     "points": 2,
     "schema_version": 3,
     "solution": false,
     "task": false
    }
   },
   "outputs": [],
   "source": [
    "assert_approx_equal(newton_step(0.5), 0.0937, significant=3)"
   ]
  },
  {
   "cell_type": "markdown",
   "metadata": {
    "deletable": false,
    "editable": false,
    "nbgrader": {
     "cell_type": "markdown",
     "checksum": "c8e206b146554984958d9326543704d9",
     "grade": false,
     "grade_id": "cell-ff9336795aef0aae",
     "locked": true,
     "schema_version": 3,
     "solution": false,
     "task": false
    }
   },
   "source": [
    "c) Implement the function `newton_root` that executes iterations of `newton_step` to locate a root."
   ]
  },
  {
   "cell_type": "code",
   "execution_count": 64,
   "metadata": {
    "deletable": false,
    "nbgrader": {
     "cell_type": "code",
     "checksum": "d5af09b59cb55d39b0b8b23740dfce3f",
     "grade": false,
     "grade_id": "cell-0751d0e825ac9108",
     "locked": false,
     "schema_version": 3,
     "solution": true,
     "task": false
    }
   },
   "outputs": [],
   "source": [
    "def newton_root(x0, tol, max_iters):\n",
    "\n",
    "    x = 0\n",
    "    for i in range(max_iters):\n",
    "        if abs(f(x0)) < tol:\n",
    "            return x0\n",
    "        x = newton_step(x0)\n",
    "        x0 = x\n",
    "    return x"
   ]
  },
  {
   "cell_type": "code",
   "execution_count": 65,
   "metadata": {
    "deletable": false,
    "editable": false,
    "nbgrader": {
     "cell_type": "code",
     "checksum": "aba471232925515c67349a67001881d8",
     "grade": true,
     "grade_id": "cell-b5696491c31c8a1f",
     "locked": true,
     "points": 3,
     "schema_version": 3,
     "solution": false,
     "task": false
    }
   },
   "outputs": [],
   "source": [
    "x0 = 0.25\n",
    "tol = 1e-3\n",
    "max_iters = 8\n",
    "assert_almost_equal(newton_root(x0, tol, max_iters), 0.000, decimal=3)\n",
    "x0 = 4.\n",
    "assert_approx_equal(newton_root(x0, tol, max_iters), 3.790, significant=3)"
   ]
  },
  {
   "cell_type": "markdown",
   "metadata": {
    "deletable": false,
    "editable": false,
    "nbgrader": {
     "cell_type": "markdown",
     "checksum": "3865bca268601184369c7964688b7280",
     "grade": false,
     "grade_id": "cell-fb7e9a0846775500",
     "locked": true,
     "schema_version": 3,
     "solution": false,
     "task": false
    }
   },
   "source": [
    "d) Implement the function `newton_root_array` that computes an array of Newton's method root estimates obtained from each entry in an array of initial guesses for the root location; then execute the cell below to test your implementation."
   ]
  },
  {
   "cell_type": "code",
   "execution_count": 66,
   "metadata": {
    "deletable": false,
    "nbgrader": {
     "cell_type": "code",
     "checksum": "6af6428b9ea9f40702473ad6c32410ef",
     "grade": false,
     "grade_id": "cell-f8fbcc899eb93b96",
     "locked": false,
     "schema_version": 3,
     "solution": true,
     "task": false
    }
   },
   "outputs": [],
   "source": [
    "def newton_root_array(x0, tol, max_iters):\n",
    "    x = np.zeros(n)\n",
    "    for i in range(n):\n",
    "        x[i] = newton_root(x0[i], tol, max_iters)\n",
    "    return x"
   ]
  },
  {
   "cell_type": "code",
   "execution_count": 67,
   "metadata": {
    "deletable": false,
    "editable": false,
    "nbgrader": {
     "cell_type": "code",
     "checksum": "050dd11d0659439d5d1e9474ba275ab4",
     "grade": true,
     "grade_id": "cell-2dc4ba45377bab01",
     "locked": true,
     "points": 4,
     "schema_version": 3,
     "solution": false,
     "task": false
    }
   },
   "outputs": [],
   "source": [
    "n = 6\n",
    "k = 2\n",
    "xmin = 0.\n",
    "xmax = k*np.pi\n",
    "x0 = np.linspace(xmin, xmax, n)\n",
    "tol = 1e-3\n",
    "max_iters = 8\n",
    "desired = np.array([0.00000000e+00, 3.37189058e-09, 3.79024555e+00, 3.79057573e+00,\n",
    "       7.25024857e+00, 7.85398163e+00])\n",
    "assert_allclose(newton_root_array(x0, tol, max_iters), desired, atol=4)\n"
   ]
  },
  {
   "cell_type": "markdown",
   "metadata": {
    "deletable": false,
    "editable": false,
    "nbgrader": {
     "cell_type": "markdown",
     "checksum": "3d02114e7b070000245c5b885077edc4",
     "grade": false,
     "grade_id": "cell-c4f256160760f91e",
     "locked": true,
     "schema_version": 3,
     "solution": false,
     "task": false
    }
   },
   "source": [
    "e) Now that your code is working and tested, the time has come for a larger computation and visualization. Execute the code below to plot the function $f(x)$, the computed root for each initial guess, and the $45^\\circ$ line corresponding to $y=x$. \n",
    "\n",
    "Here is a suggestion for interpreting the plot:\n",
    "Find an actual root of $f(x)$ where the green curve meets the horizontal axis.\n",
    "Go straight up to the blue $45^\\circ$ line to find the corresponding value on the vertical axis.\n",
    "Compare the actual root location with a computed root location (indicated by a black +)."
   ]
  },
  {
   "cell_type": "code",
   "execution_count": 68,
   "metadata": {
    "deletable": false,
    "editable": false,
    "nbgrader": {
     "cell_type": "code",
     "checksum": "025ebb309d0f1daee664c87987901a0d",
     "grade": false,
     "grade_id": "cell-fd877c1ca0a36e83",
     "locked": true,
     "schema_version": 3,
     "solution": false,
     "task": false
    }
   },
   "outputs": [
    {
     "data": {
      "image/png": "[encoded data removed]",
      "text/plain": [
       "<Figure size 288x576 with 1 Axes>"
      ]
     },
     "metadata": {
      "needs_background": "light"
     },
     "output_type": "display_data"
    }
   ],
   "source": [
    "n = 1 << 16\n",
    "k = 8\n",
    "xmin, xmax = 0, k*np.pi\n",
    "ymin, ymax = -k*np.pi, k*np.pi\n",
    "tol = 1e-3\n",
    "max_iters = 8\n",
    "x0 = np.linspace(xmin, xmax, n)\n",
    "root = newton_root_array(x0, tol, max_iters)\n",
    "fig= plt.figure(figsize=(4,8))\n",
    "plt.axis([xmin,xmax, ymin, ymax])\n",
    "plt.xlabel('X')\n",
    "plt.ylabel('Y')\n",
    "plt.plot(x0, -0.2*x0+np.tan(x0), 'g.', label='y=f(x)')\n",
    "plt.plot(x0, 1.0*x0, label='y=x')\n",
    "plt.plot(x0, root, 'k+', label='Compute root')\n",
    "plt.legend()\n",
    "plt.grid()\n",
    "assert_approx_equal(root[1 << 14], 7.854, significant=3)"
   ]
  },
  {
   "cell_type": "markdown",
   "metadata": {
    "deletable": false,
    "editable": false,
    "nbgrader": {
     "cell_type": "markdown",
     "checksum": "3cd481266d28520efa33c9b803818a93",
     "grade": false,
     "grade_id": "cell-8a0c627543e377fa",
     "locked": true,
     "schema_version": 3,
     "solution": false,
     "task": false
    }
   },
   "source": [
    "f) Select the conclusion that is best supported by your plot."
   ]
  },
  {
   "cell_type": "code",
   "execution_count": 69,
   "metadata": {
    "deletable": false,
    "nbgrader": {
     "cell_type": "code",
     "checksum": "fb6ef371e3a236824414875bb433511e",
     "grade": false,
     "grade_id": "cell-3635ec7b4d507fd0",
     "locked": false,
     "schema_version": 3,
     "solution": true,
     "task": false
    }
   },
   "outputs": [],
   "source": [
    "# uncomment a line below and evaluate to make your selection\n",
    "answer = 'For each root, there is an interval of initial guesses for which Newtons method converges to the closest root.'\n",
    "# answer = \"Newton's method always converges to a value close to a root of the function f(x).\"\n",
    "# answer = \"Newton's method always converges to the value of the root of the function f(x) closest to the initial guess.\"\n",
    "# answer = \"For each root, there is an interval of initial guesses for which Newton's method converges to the closest root.\"\n",
    "# YOUR CODE HERE"
   ]
  },
  {
   "cell_type": "code",
   "execution_count": 70,
   "metadata": {
    "deletable": false,
    "editable": false,
    "nbgrader": {
     "cell_type": "code",
     "checksum": "6128a048830418a1dc5054be90d3cd21",
     "grade": true,
     "grade_id": "cell-e6786f550ffd4b18",
     "locked": true,
     "points": 2,
     "schema_version": 3,
     "solution": false,
     "task": false
    }
   },
   "outputs": [],
   "source": [
    "assert_(answer != '')"
   ]
  },
  {
   "cell_type": "markdown",
   "metadata": {
    "deletable": false,
    "editable": false,
    "nbgrader": {
     "cell_type": "markdown",
     "checksum": "a12cddfeb02cea114c20346888057c5e",
     "grade": false,
     "grade_id": "cell-eb09aa7fc289688d",
     "locked": true,
     "schema_version": 3,
     "solution": false,
     "task": false
    }
   },
   "source": [
    "g) The cell below repeats the essential code to compute roots for an array of initial guesses."
   ]
  },
  {
   "cell_type": "code",
   "execution_count": 71,
   "metadata": {
    "deletable": false,
    "editable": false,
    "nbgrader": {
     "cell_type": "code",
     "checksum": "c8bc8c77d8764396a325ebb27986f005",
     "grade": false,
     "grade_id": "cell-51c4656282f7fe42",
     "locked": true,
     "schema_version": 3,
     "solution": false,
     "task": false
    }
   },
   "outputs": [],
   "source": [
    "n = 1 << 16\n",
    "k = 8\n",
    "xmin = 0.\n",
    "xmax = k*np.pi\n",
    "x0 = np.linspace(xmin, xmax, n, dtype=np.float64)\n",
    "tol = 1e-3\n",
    "max_iters = 8\n",
    "root = newton_root_array(x0, tol, max_iters)"
   ]
  },
  {
   "cell_type": "markdown",
   "metadata": {
    "deletable": false,
    "editable": false,
    "nbgrader": {
     "cell_type": "markdown",
     "checksum": "43d87fc1ca291257be0bf82834ceb19e",
     "grade": false,
     "grade_id": "cell-5fa1be4ddcb49c06",
     "locked": true,
     "schema_version": 3,
     "solution": false,
     "task": false
    }
   },
   "source": [
    "Copy the code from the cell above, paste it into the cell below, modify it to measure the execution time, and assign your timing (in ms) to a variable named `serial_elapsed`."
   ]
  },
  {
   "cell_type": "code",
   "execution_count": 72,
   "metadata": {
    "deletable": false,
    "nbgrader": {
     "cell_type": "code",
     "checksum": "a4d057f8c200cc20de8a2cebf5e73d00",
     "grade": false,
     "grade_id": "cell-fa871a0c46d6f57c",
     "locked": false,
     "schema_version": 3,
     "solution": true,
     "task": false
    }
   },
   "outputs": [],
   "source": [
    "from time import time\n",
    "start = time()\n",
    "n = 1 << 16\n",
    "k = 8\n",
    "xmin = 0.\n",
    "xmax = k*np.pi\n",
    "x0 = np.linspace(xmin, xmax, n, dtype=np.float64)\n",
    "tol = 1e-3\n",
    "max_iters = 8\n",
    "root = newton_root_array(x0, tol, max_iters)\n",
    "end = time()\n",
    "serial_elapsed = (end - start)*1000"
   ]
  },
  {
   "cell_type": "code",
   "execution_count": 73,
   "metadata": {
    "deletable": false,
    "editable": false,
    "nbgrader": {
     "cell_type": "code",
     "checksum": "8d95682e71140b379455f1cef8a25d78",
     "grade": true,
     "grade_id": "cell-8edcb2ce7fdccbf7",
     "locked": true,
     "points": 2,
     "schema_version": 3,
     "solution": false,
     "task": false
    }
   },
   "outputs": [
    {
     "name": "stdout",
     "output_type": "stream",
     "text": [
      "Serial elapsed time in ms:  2305.2263259887695\n"
     ]
    }
   ],
   "source": [
    "print(\"Serial elapsed time in ms: \", serial_elapsed)\n",
    "assert_(serial_elapsed != None)"
   ]
  },
  {
   "cell_type": "markdown",
   "metadata": {
    "deletable": false,
    "editable": false,
    "nbgrader": {
     "cell_type": "markdown",
     "checksum": "e3c0def39698e5888c4521a0669c6f87",
     "grade": false,
     "grade_id": "cell-723ad5a3b785926b",
     "locked": true,
     "schema_version": 3,
     "solution": false,
     "task": false
    }
   },
   "source": [
    "2. The goal of this problem is to create parallelized code for computing the array of Newton's method root estimates. Your implementation should include a function `parallel_newton_root_array` that calls a kernel function `newton_kernel` that calls a device function version of `newton_root`."
   ]
  },
  {
   "cell_type": "code",
   "execution_count": 74,
   "metadata": {
    "deletable": false,
    "nbgrader": {
     "cell_type": "code",
     "checksum": "0d7a8c2a773c26cf6ed08eb3e18d70c7",
     "grade": false,
     "grade_id": "cell-e630572d081ed90f",
     "locked": false,
     "schema_version": 3,
     "solution": true,
     "task": false
    }
   },
   "outputs": [],
   "source": [
    "#The existing code for `newton_kernel` is below. Make appropriate adjustments to make it work as a device function.\n",
    "\n",
    "import math \n",
    "from numba import cuda, jit, float32\n",
    "\n",
    "PI = np.pi\n",
    "TPB = 32\n",
    "\n",
    "@cuda.jit(device = True)\n",
    "def newton_root(x0, tol, max_iters):\n",
    "\n",
    "    for _ in range(max_iters):\n",
    "        if(abs(f(x0)) < tol):\n",
    "            x = x0\n",
    "            return x\n",
    "        x = x0 -(f(x0)/df(x0))\n",
    "        x0 = x\n",
    "    return x\n",
    "\n",
    "\n",
    "@cuda.jit(device = True)\n",
    "def f(x):\n",
    "    return -0.2*x + math.tan(x) \n",
    "\n",
    "@cuda.jit(device = True)\n",
    "def df(x):\n",
    "    return -0.2 + 1./(math.cos(x)**2)\n",
    "\n",
    "\n",
    "@cuda.jit \n",
    "def newton_kernel(d_root, dx):\n",
    "    i = cuda.grid(1)\n",
    "    n = dx.shape[0]\n",
    "    block = cuda.threadIdx.x\n",
    "    if cuda.threadIdx.x == 1:\n",
    "        print(block)\n",
    "    if i < n :\n",
    "        d_root[i] = newton_root(dx[i], tol, max_iters)\n",
    "\n",
    "        \n",
    "        \n",
    "def parallel_newton_root_array(x0, tol, max_iters):\n",
    "\n",
    "    n = x0.shape[0]\n",
    "    dx = cuda.to_device(x0)\n",
    "    d_root = cuda.device_array(n,dtype = np.float32)\n",
    "    blockDims = TPB\n",
    "    gridDims = (n+TPB-1)//TPB\n",
    "    newton_kernel[gridDims, blockDims](d_root, dx)\n",
    "    \n",
    "    return d_root.copy_to_host()"
   ]
  },
  {
   "cell_type": "code",
   "execution_count": 75,
   "metadata": {
    "deletable": false,
    "editable": false,
    "nbgrader": {
     "cell_type": "code",
     "checksum": "2cbab3725c233b85da9fe95d349aaea0",
     "grade": true,
     "grade_id": "cell-8822a6429a30c9bb",
     "locked": true,
     "points": 10,
     "schema_version": 3,
     "solution": false,
     "task": false
    }
   },
   "outputs": [
    {
     "data": {
      "image/png": "[encoded data removed]",
      "text/plain": [
       "<Figure size 288x576 with 1 Axes>"
      ]
     },
     "metadata": {
      "needs_background": "light"
     },
     "output_type": "display_data"
    }
   ],
   "source": [
    "n = 1 << 16\n",
    "k = 8\n",
    "xmin, xmax = 0, k*np.pi\n",
    "ymin, ymax = -k*np.pi, k*np.pi\n",
    "tol = 1e-3\n",
    "max_iters = 8\n",
    "x0 = np.linspace(xmin, xmax, n)\n",
    "parallel_root = parallel_newton_root_array(x0, tol, max_iters)\n",
    "fig= plt.figure(figsize=(4,8))\n",
    "plt.axis([xmin,xmax, ymin, ymax])\n",
    "plt.xlabel('X')\n",
    "plt.ylabel('Y')\n",
    "plt.plot(x0, -0.2*x0+np.tan(x0), 'g.', label='y=f(x)')\n",
    "plt.plot(x0, 1.0*x0, label='y=x')\n",
    "plt.plot(x0, parallel_root, 'k+', label='Compute root')\n",
    "plt.legend()\n",
    "assert_approx_equal(parallel_root[1 << 14], 7.854, significant=3)\n",
    "assert_allclose(parallel_root, root, atol=1e-2)"
   ]
  },
  {
   "cell_type": "markdown",
   "metadata": {
    "deletable": false,
    "editable": false,
    "nbgrader": {
     "cell_type": "markdown",
     "checksum": "b6826b26acb31bfa6f4c88787c13d0cc",
     "grade": false,
     "grade_id": "cell-db5efd625ea3e8ba",
     "locked": true,
     "schema_version": 3,
     "solution": false,
     "task": false
    }
   },
   "source": [
    "Does the plot of your parallel results match up reasonably well with the plot of the serial results?"
   ]
  },
  {
   "cell_type": "code",
   "execution_count": 76,
   "metadata": {
    "deletable": false,
    "nbgrader": {
     "cell_type": "code",
     "checksum": "2fa8924ef67e41474a3f57a6f6110c8d",
     "grade": false,
     "grade_id": "cell-d2ba4c531e18e6c7",
     "locked": false,
     "schema_version": 3,
     "solution": true,
     "task": false
    }
   },
   "outputs": [],
   "source": [
    "answer = 'Yes, the two plots are the same'"
   ]
  },
  {
   "cell_type": "code",
   "execution_count": 77,
   "metadata": {
    "deletable": false,
    "editable": false,
    "nbgrader": {
     "cell_type": "code",
     "checksum": "8e2d5bb4672f9bc89ac38eb317480e94",
     "grade": true,
     "grade_id": "cell-eabcd1a93aa0d50b",
     "locked": true,
     "points": 2,
     "schema_version": 3,
     "solution": false,
     "task": false
    }
   },
   "outputs": [],
   "source": [
    "assert_(answer != None)"
   ]
  },
  {
   "cell_type": "markdown",
   "metadata": {
    "deletable": false,
    "editable": false,
    "nbgrader": {
     "cell_type": "markdown",
     "checksum": "a078e576e40d3c03ab46ca309dcd9947",
     "grade": false,
     "grade_id": "cell-87ab3bfc5e4ff5bc",
     "locked": true,
     "schema_version": 3,
     "solution": false,
     "task": false
    }
   },
   "source": [
    "Does the plot of the parallel results support the same conclusion reached from the plot of the serial results above?"
   ]
  },
  {
   "cell_type": "code",
   "execution_count": 78,
   "metadata": {
    "deletable": false,
    "nbgrader": {
     "cell_type": "code",
     "checksum": "8b3e72f57bed8ca8ebdbc9fec0e56a3d",
     "grade": false,
     "grade_id": "cell-8a71cbdf74aad607",
     "locked": false,
     "schema_version": 3,
     "solution": true,
     "task": false
    }
   },
   "outputs": [],
   "source": [
    "answer = 'Yes, since the plots are the same, we can draw same conclusion from the plot'"
   ]
  },
  {
   "cell_type": "code",
   "execution_count": 79,
   "metadata": {
    "deletable": false,
    "editable": false,
    "nbgrader": {
     "cell_type": "code",
     "checksum": "c1401063ad1aee009a212081a3ac56de",
     "grade": true,
     "grade_id": "cell-77d949b0a5b7baf9",
     "locked": true,
     "points": 2,
     "schema_version": 3,
     "solution": false,
     "task": false
    }
   },
   "outputs": [],
   "source": [
    "assert_(answer != None)"
   ]
  },
  {
   "cell_type": "markdown",
   "metadata": {
    "deletable": false,
    "editable": false,
    "nbgrader": {
     "cell_type": "markdown",
     "checksum": "0f09be2644d62ef6d94815aa785eb84c",
     "grade": false,
     "grade_id": "cell-55b5f1f44ed4237d",
     "locked": true,
     "schema_version": 3,
     "solution": false,
     "task": false
    }
   },
   "source": [
    "Does the `parallel_root` array match up with the `root` array? Propose an explanation for any differences you observe."
   ]
  },
  {
   "cell_type": "code",
   "execution_count": 80,
   "metadata": {
    "deletable": false,
    "nbgrader": {
     "cell_type": "code",
     "checksum": "c5a8a3e52d6e053e979680f80a108231",
     "grade": true,
     "grade_id": "cell-6972be45bc80da4d",
     "locked": false,
     "points": 3,
     "schema_version": 3,
     "solution": true,
     "task": false
    }
   },
   "outputs": [
    {
     "name": "stdout",
     "output_type": "stream",
     "text": [
      "[0.0000000e+00 3.8350106e-04 7.6700212e-04 1.1505032e-03 3.0081393e-09\n",
      " 5.8752683e-09 1.0152457e-08]\n",
      "[0.00000000e+00 3.83501049e-04 7.67002097e-04 1.15050315e-03\n",
      " 3.00813925e-09 5.87526847e-09 1.01524565e-08]\n"
     ]
    }
   ],
   "source": [
    "print(parallel_root[0:7])\n",
    "print(root[0:7])\n",
    "answer = 'They are the same'"
   ]
  },
  {
   "cell_type": "markdown",
   "metadata": {
    "deletable": false,
    "editable": false,
    "nbgrader": {
     "cell_type": "markdown",
     "checksum": "43e6a83d57c2bffee8211e73db26a6d4",
     "grade": false,
     "grade_id": "cell-dd95d3a197174c6e",
     "locked": true,
     "schema_version": 3,
     "solution": false,
     "task": false
    }
   },
   "source": [
    "3. Modify your parallel implementation to return both the `parallel_root` array and the time required for kernel execution using CUDA events. Also, have one thread in each block print the block number."
   ]
  },
  {
   "cell_type": "code",
   "execution_count": 81,
   "metadata": {
    "deletable": false,
    "nbgrader": {
     "cell_type": "code",
     "checksum": "de5ab73612a9a4d133f48299d1331ed6",
     "grade": false,
     "grade_id": "cell-b3da60ec8d212cd3",
     "locked": false,
     "schema_version": 3,
     "solution": true,
     "task": false
    }
   },
   "outputs": [],
   "source": [
    "# insert modified code with CUDA event timing here\n",
    "\n",
    "def parallel_newton_root_array(x0, tol, max_iters):\n",
    "    start = cuda.event()\n",
    "    end = cuda.event()\n",
    "    \n",
    "    tindex = cuda.threadIdx.x\n",
    "    bindex = cuda.blockIdx.x\n",
    "    n = x0.shape[0]\n",
    "    dx = cuda.to_device(x0)\n",
    "    d_root = cuda.device_array(n,dtype = np.float32)\n",
    "    blockDims = TPB\n",
    "    gridDims = (n+TPB-1)//TPB\n",
    "    start.record()\n",
    "    newton_kernel[gridDims, blockDims](d_root, dx)\n",
    "    end.record()\n",
    "    end.synchronize()\n",
    "    \n",
    "    kernel_duration = cuda.event_elapsed_time(start, end)\n",
    "    print('Parallel Time is',kernel_duration)\n",
    "    return d_root.copy_to_host(), kernel_duration"
   ]
  },
  {
   "cell_type": "markdown",
   "metadata": {
    "deletable": false,
    "editable": false,
    "nbgrader": {
     "cell_type": "markdown",
     "checksum": "5ac112d748e0dfa46052a1459515aa2c",
     "grade": false,
     "grade_id": "cell-720d3a2548c36858",
     "locked": true,
     "schema_version": 3,
     "solution": false,
     "task": false
    }
   },
   "source": [
    "Execute your timed, parallel code, assign the kernel execution time (in ms) to the variable `parallel_elapsed`. The cell below assigns to the variable `speedup` the ratio of serial to parallel timings."
   ]
  },
  {
   "cell_type": "code",
   "execution_count": 82,
   "metadata": {
    "deletable": false,
    "editable": false,
    "nbgrader": {
     "cell_type": "code",
     "checksum": "e449083e79348678013bc40c67025565",
     "grade": true,
     "grade_id": "cell-6053731d541442c6",
     "locked": true,
     "points": 5,
     "schema_version": 3,
     "solution": false,
     "task": false
    }
   },
   "outputs": [
    {
     "name": "stdout",
     "output_type": "stream",
     "text": [
      "Parallel Time is 3.1928319931030273\n"
     ]
    }
   ],
   "source": [
    "parallel_root, parallel_elapsed = parallel_newton_root_array(x0, tol, max_iters)\n",
    "speedup = serial_elapsed/parallel_elapsed"
   ]
  },
  {
   "cell_type": "markdown",
   "metadata": {
    "deletable": false,
    "editable": false,
    "nbgrader": {
     "cell_type": "markdown",
     "checksum": "5d3c33082330eb33b99a3dfc5b48b904",
     "grade": false,
     "grade_id": "cell-f4ba6055850758b4",
     "locked": true,
     "schema_version": 3,
     "solution": false,
     "task": false
    }
   },
   "source": [
    "Execute your modified parallel code several time. Do the blocks execute in the same order? Answer YES or NO and briefly explain how you determined your answer."
   ]
  },
  {
   "cell_type": "code",
   "execution_count": 83,
   "metadata": {
    "deletable": false,
    "nbgrader": {
     "cell_type": "code",
     "checksum": "ab99ac880ad899c9a720a691bb7ac7e4",
     "grade": true,
     "grade_id": "cell-4bc68f8f795158d9",
     "locked": false,
     "points": 2,
     "schema_version": 3,
     "solution": true,
     "task": false
    }
   },
   "outputs": [
    {
     "name": "stdout",
     "output_type": "stream",
     "text": [
      "Speedup is 722.0005095690557\n"
     ]
    }
   ],
   "source": [
    "answer = 'No. I used google colab and run the parallel codes several time. The colab shows different block each times.'\n",
    "print('Speedup is', speedup)"
   ]
  },
  {
   "cell_type": "code",
   "execution_count": null,
   "metadata": {},
   "outputs": [],
   "source": []
  }
 ],
 "metadata": {
  "kernelspec": {
   "display_name": "Python 3",
   "language": "python",
   "name": "python3"
  },
  "language_info": {
   "codemirror_mode": {
    "name": "ipython",
    "version": 3
   },
   "file_extension": ".py",
   "mimetype": "text/x-python",
   "name": "python",
   "nbconvert_exporter": "python",
   "pygments_lexer": "ipython3",
   "version": "3.8.5"
  }
 },
 "nbformat": 4,
 "nbformat_minor": 5
}
